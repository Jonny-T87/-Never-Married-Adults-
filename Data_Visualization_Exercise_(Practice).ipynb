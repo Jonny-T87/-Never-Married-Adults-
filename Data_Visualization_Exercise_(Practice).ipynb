{
  "nbformat": 4,
  "nbformat_minor": 0,
  "metadata": {
    "colab": {
      "name": "Data Visualization Exercise (Practice).ipynb",
      "provenance": [],
      "collapsed_sections": [],
      "mount_file_id": "1o9BxlaM8wwq0OvgaSbcYTE73PwVERqYR",
      "authorship_tag": "ABX9TyNiqyxlpUEIxBlHr+uuSryh",
      "include_colab_link": true
    },
    "kernelspec": {
      "name": "python3",
      "display_name": "Python 3"
    },
    "language_info": {
      "name": "python"
    }
  },
  "cells": [
    {
      "cell_type": "markdown",
      "metadata": {
        "id": "view-in-github",
        "colab_type": "text"
      },
      "source": [
        "<a href=\"https://colab.research.google.com/github/Jonny-T87/-Never-Married-Adults-/blob/main/Data_Visualization_Exercise_(Practice).ipynb\" target=\"_parent\"><img src=\"https://colab.research.google.com/assets/colab-badge.svg\" alt=\"Open In Colab\"/></a>"
      ]
    },
    {
      "cell_type": "code",
      "source": [
        "import pandas as pd\n",
        "import numpy as np\n",
        "import matplotlib.pyplot as plt\n",
        "import seaborn as sns"
      ],
      "metadata": {
        "id": "Of6PMuAiFltB"
      },
      "execution_count": 1,
      "outputs": []
    },
    {
      "cell_type": "code",
      "execution_count": 2,
      "metadata": {
        "id": "IgLyouVkD269"
      },
      "outputs": [],
      "source": [
        "filename = '/content/drive/MyDrive/DojoBootCamp/Project Files/Never Married.xlsx'\n",
        "df = pd.read_excel(filename)"
      ]
    },
    {
      "cell_type": "code",
      "source": [
        "df"
      ],
      "metadata": {
        "colab": {
          "base_uri": "https://localhost:8080/",
          "height": 677
        },
        "id": "TKrQ_7lyQFdo",
        "outputId": "c0d313ad-e1ff-4a3a-8f01-5a9b0480d331"
      },
      "execution_count": 3,
      "outputs": [
        {
          "output_type": "execute_result",
          "data": {
            "text/plain": [
              "   Gender Age Range  Year  Never Married\n",
              "0   Women     25-29  2006          0.456\n",
              "1   Women     25-29  2016          0.597\n",
              "2     Men     25-29  2006          0.579\n",
              "3     Men     25-29  2016          0.709\n",
              "4   Women     30-34  2006          0.262\n",
              "5   Women     30-34  2016          0.361\n",
              "6     Men     30-34  2006          0.348\n",
              "7     Men     30-34  2016          0.458\n",
              "8   Women     35-44  2006          0.164\n",
              "9   Women     35-44  2016          0.212\n",
              "10    Men     35-44  2006          0.216\n",
              "11    Men     35-44  2016          0.265\n",
              "12  Women     45-54  2006          0.106\n",
              "13  Women     45-54  2016          0.135\n",
              "14    Men     45-54  2006          0.136\n",
              "15    Men     45-54  2016          0.172\n",
              "16  Women       55+  2006          0.055\n",
              "17  Women       55+  2016          0.074\n",
              "18    Men       55+  2006          0.061\n",
              "19    Men       55+  2016          0.088"
            ],
            "text/html": [
              "\n",
              "  <div id=\"df-1ac70ba9-6579-4f41-8609-3c7176eb5c3c\">\n",
              "    <div class=\"colab-df-container\">\n",
              "      <div>\n",
              "<style scoped>\n",
              "    .dataframe tbody tr th:only-of-type {\n",
              "        vertical-align: middle;\n",
              "    }\n",
              "\n",
              "    .dataframe tbody tr th {\n",
              "        vertical-align: top;\n",
              "    }\n",
              "\n",
              "    .dataframe thead th {\n",
              "        text-align: right;\n",
              "    }\n",
              "</style>\n",
              "<table border=\"1\" class=\"dataframe\">\n",
              "  <thead>\n",
              "    <tr style=\"text-align: right;\">\n",
              "      <th></th>\n",
              "      <th>Gender</th>\n",
              "      <th>Age Range</th>\n",
              "      <th>Year</th>\n",
              "      <th>Never Married</th>\n",
              "    </tr>\n",
              "  </thead>\n",
              "  <tbody>\n",
              "    <tr>\n",
              "      <th>0</th>\n",
              "      <td>Women</td>\n",
              "      <td>25-29</td>\n",
              "      <td>2006</td>\n",
              "      <td>0.456</td>\n",
              "    </tr>\n",
              "    <tr>\n",
              "      <th>1</th>\n",
              "      <td>Women</td>\n",
              "      <td>25-29</td>\n",
              "      <td>2016</td>\n",
              "      <td>0.597</td>\n",
              "    </tr>\n",
              "    <tr>\n",
              "      <th>2</th>\n",
              "      <td>Men</td>\n",
              "      <td>25-29</td>\n",
              "      <td>2006</td>\n",
              "      <td>0.579</td>\n",
              "    </tr>\n",
              "    <tr>\n",
              "      <th>3</th>\n",
              "      <td>Men</td>\n",
              "      <td>25-29</td>\n",
              "      <td>2016</td>\n",
              "      <td>0.709</td>\n",
              "    </tr>\n",
              "    <tr>\n",
              "      <th>4</th>\n",
              "      <td>Women</td>\n",
              "      <td>30-34</td>\n",
              "      <td>2006</td>\n",
              "      <td>0.262</td>\n",
              "    </tr>\n",
              "    <tr>\n",
              "      <th>5</th>\n",
              "      <td>Women</td>\n",
              "      <td>30-34</td>\n",
              "      <td>2016</td>\n",
              "      <td>0.361</td>\n",
              "    </tr>\n",
              "    <tr>\n",
              "      <th>6</th>\n",
              "      <td>Men</td>\n",
              "      <td>30-34</td>\n",
              "      <td>2006</td>\n",
              "      <td>0.348</td>\n",
              "    </tr>\n",
              "    <tr>\n",
              "      <th>7</th>\n",
              "      <td>Men</td>\n",
              "      <td>30-34</td>\n",
              "      <td>2016</td>\n",
              "      <td>0.458</td>\n",
              "    </tr>\n",
              "    <tr>\n",
              "      <th>8</th>\n",
              "      <td>Women</td>\n",
              "      <td>35-44</td>\n",
              "      <td>2006</td>\n",
              "      <td>0.164</td>\n",
              "    </tr>\n",
              "    <tr>\n",
              "      <th>9</th>\n",
              "      <td>Women</td>\n",
              "      <td>35-44</td>\n",
              "      <td>2016</td>\n",
              "      <td>0.212</td>\n",
              "    </tr>\n",
              "    <tr>\n",
              "      <th>10</th>\n",
              "      <td>Men</td>\n",
              "      <td>35-44</td>\n",
              "      <td>2006</td>\n",
              "      <td>0.216</td>\n",
              "    </tr>\n",
              "    <tr>\n",
              "      <th>11</th>\n",
              "      <td>Men</td>\n",
              "      <td>35-44</td>\n",
              "      <td>2016</td>\n",
              "      <td>0.265</td>\n",
              "    </tr>\n",
              "    <tr>\n",
              "      <th>12</th>\n",
              "      <td>Women</td>\n",
              "      <td>45-54</td>\n",
              "      <td>2006</td>\n",
              "      <td>0.106</td>\n",
              "    </tr>\n",
              "    <tr>\n",
              "      <th>13</th>\n",
              "      <td>Women</td>\n",
              "      <td>45-54</td>\n",
              "      <td>2016</td>\n",
              "      <td>0.135</td>\n",
              "    </tr>\n",
              "    <tr>\n",
              "      <th>14</th>\n",
              "      <td>Men</td>\n",
              "      <td>45-54</td>\n",
              "      <td>2006</td>\n",
              "      <td>0.136</td>\n",
              "    </tr>\n",
              "    <tr>\n",
              "      <th>15</th>\n",
              "      <td>Men</td>\n",
              "      <td>45-54</td>\n",
              "      <td>2016</td>\n",
              "      <td>0.172</td>\n",
              "    </tr>\n",
              "    <tr>\n",
              "      <th>16</th>\n",
              "      <td>Women</td>\n",
              "      <td>55+</td>\n",
              "      <td>2006</td>\n",
              "      <td>0.055</td>\n",
              "    </tr>\n",
              "    <tr>\n",
              "      <th>17</th>\n",
              "      <td>Women</td>\n",
              "      <td>55+</td>\n",
              "      <td>2016</td>\n",
              "      <td>0.074</td>\n",
              "    </tr>\n",
              "    <tr>\n",
              "      <th>18</th>\n",
              "      <td>Men</td>\n",
              "      <td>55+</td>\n",
              "      <td>2006</td>\n",
              "      <td>0.061</td>\n",
              "    </tr>\n",
              "    <tr>\n",
              "      <th>19</th>\n",
              "      <td>Men</td>\n",
              "      <td>55+</td>\n",
              "      <td>2016</td>\n",
              "      <td>0.088</td>\n",
              "    </tr>\n",
              "  </tbody>\n",
              "</table>\n",
              "</div>\n",
              "      <button class=\"colab-df-convert\" onclick=\"convertToInteractive('df-1ac70ba9-6579-4f41-8609-3c7176eb5c3c')\"\n",
              "              title=\"Convert this dataframe to an interactive table.\"\n",
              "              style=\"display:none;\">\n",
              "        \n",
              "  <svg xmlns=\"http://www.w3.org/2000/svg\" height=\"24px\"viewBox=\"0 0 24 24\"\n",
              "       width=\"24px\">\n",
              "    <path d=\"M0 0h24v24H0V0z\" fill=\"none\"/>\n",
              "    <path d=\"M18.56 5.44l.94 2.06.94-2.06 2.06-.94-2.06-.94-.94-2.06-.94 2.06-2.06.94zm-11 1L8.5 8.5l.94-2.06 2.06-.94-2.06-.94L8.5 2.5l-.94 2.06-2.06.94zm10 10l.94 2.06.94-2.06 2.06-.94-2.06-.94-.94-2.06-.94 2.06-2.06.94z\"/><path d=\"M17.41 7.96l-1.37-1.37c-.4-.4-.92-.59-1.43-.59-.52 0-1.04.2-1.43.59L10.3 9.45l-7.72 7.72c-.78.78-.78 2.05 0 2.83L4 21.41c.39.39.9.59 1.41.59.51 0 1.02-.2 1.41-.59l7.78-7.78 2.81-2.81c.8-.78.8-2.07 0-2.86zM5.41 20L4 18.59l7.72-7.72 1.47 1.35L5.41 20z\"/>\n",
              "  </svg>\n",
              "      </button>\n",
              "      \n",
              "  <style>\n",
              "    .colab-df-container {\n",
              "      display:flex;\n",
              "      flex-wrap:wrap;\n",
              "      gap: 12px;\n",
              "    }\n",
              "\n",
              "    .colab-df-convert {\n",
              "      background-color: #E8F0FE;\n",
              "      border: none;\n",
              "      border-radius: 50%;\n",
              "      cursor: pointer;\n",
              "      display: none;\n",
              "      fill: #1967D2;\n",
              "      height: 32px;\n",
              "      padding: 0 0 0 0;\n",
              "      width: 32px;\n",
              "    }\n",
              "\n",
              "    .colab-df-convert:hover {\n",
              "      background-color: #E2EBFA;\n",
              "      box-shadow: 0px 1px 2px rgba(60, 64, 67, 0.3), 0px 1px 3px 1px rgba(60, 64, 67, 0.15);\n",
              "      fill: #174EA6;\n",
              "    }\n",
              "\n",
              "    [theme=dark] .colab-df-convert {\n",
              "      background-color: #3B4455;\n",
              "      fill: #D2E3FC;\n",
              "    }\n",
              "\n",
              "    [theme=dark] .colab-df-convert:hover {\n",
              "      background-color: #434B5C;\n",
              "      box-shadow: 0px 1px 3px 1px rgba(0, 0, 0, 0.15);\n",
              "      filter: drop-shadow(0px 1px 2px rgba(0, 0, 0, 0.3));\n",
              "      fill: #FFFFFF;\n",
              "    }\n",
              "  </style>\n",
              "\n",
              "      <script>\n",
              "        const buttonEl =\n",
              "          document.querySelector('#df-1ac70ba9-6579-4f41-8609-3c7176eb5c3c button.colab-df-convert');\n",
              "        buttonEl.style.display =\n",
              "          google.colab.kernel.accessAllowed ? 'block' : 'none';\n",
              "\n",
              "        async function convertToInteractive(key) {\n",
              "          const element = document.querySelector('#df-1ac70ba9-6579-4f41-8609-3c7176eb5c3c');\n",
              "          const dataTable =\n",
              "            await google.colab.kernel.invokeFunction('convertToInteractive',\n",
              "                                                     [key], {});\n",
              "          if (!dataTable) return;\n",
              "\n",
              "          const docLinkHtml = 'Like what you see? Visit the ' +\n",
              "            '<a target=\"_blank\" href=https://colab.research.google.com/notebooks/data_table.ipynb>data table notebook</a>'\n",
              "            + ' to learn more about interactive tables.';\n",
              "          element.innerHTML = '';\n",
              "          dataTable['output_type'] = 'display_data';\n",
              "          await google.colab.output.renderOutput(dataTable, element);\n",
              "          const docLink = document.createElement('div');\n",
              "          docLink.innerHTML = docLinkHtml;\n",
              "          element.appendChild(docLink);\n",
              "        }\n",
              "      </script>\n",
              "    </div>\n",
              "  </div>\n",
              "  "
            ]
          },
          "metadata": {},
          "execution_count": 3
        }
      ]
    },
    {
      "cell_type": "code",
      "source": [
        "grouped_df = df.groupby(['Gender','Age Range','Year'])['Never Married'].mean()\n",
        "grouped_df"
      ],
      "metadata": {
        "colab": {
          "base_uri": "https://localhost:8080/"
        },
        "id": "Vk1xa08iRPxs",
        "outputId": "edfffcfc-ba33-42d6-b84e-58f6197e3521"
      },
      "execution_count": 4,
      "outputs": [
        {
          "output_type": "execute_result",
          "data": {
            "text/plain": [
              "Gender  Age Range  Year\n",
              "Men     25-29      2006    0.579\n",
              "                   2016    0.709\n",
              "        30-34      2006    0.348\n",
              "                   2016    0.458\n",
              "        35-44      2006    0.216\n",
              "                   2016    0.265\n",
              "        45-54      2006    0.136\n",
              "                   2016    0.172\n",
              "        55+        2006    0.061\n",
              "                   2016    0.088\n",
              "Women   25-29      2006    0.456\n",
              "                   2016    0.597\n",
              "        30-34      2006    0.262\n",
              "                   2016    0.361\n",
              "        35-44      2006    0.164\n",
              "                   2016    0.212\n",
              "        45-54      2006    0.106\n",
              "                   2016    0.135\n",
              "        55+        2006    0.055\n",
              "                   2016    0.074\n",
              "Name: Never Married, dtype: float64"
            ]
          },
          "metadata": {},
          "execution_count": 4
        }
      ]
    },
    {
      "cell_type": "markdown",
      "source": [
        "- How many women/men in 2006 never married?\n",
        "- How many women/men in 2016 never married?\n",
        "- What was the diffrence with women/men who never got narried in both 2006/2016?"
      ],
      "metadata": {
        "id": "A5l-cdOoMoQt"
      }
    },
    {
      "cell_type": "code",
      "source": [
        "sns.scatterplot(data=df, x='Age Range', y='Never Married', hue='Gender');"
      ],
      "metadata": {
        "colab": {
          "base_uri": "https://localhost:8080/",
          "height": 279
        },
        "id": "V5zWMYKcVS_W",
        "outputId": "3aced33c-6f80-4415-86da-e2522cb4025f"
      },
      "execution_count": 5,
      "outputs": [
        {
          "output_type": "display_data",
          "data": {
            "text/plain": [
              "<Figure size 432x288 with 1 Axes>"
            ],
            "image/png": "[encoded data removed]"
          },
          "metadata": {
            "needs_background": "light"
          }
        }
      ]
    },
    {
      "cell_type": "code",
      "source": [
        "from google.colab import files\n",
        "fig, axes = plt.subplots(ncols=2, figsize=(12,4))\n",
        "\n",
        "sns.set(style=\"darkgrid\")    \n",
        "sns.lineplot(\n",
        "    data=df.query(\"Year == 2006\"),\n",
        "    x=\"Never Married\", y=\"Age Range\", hue=\"Gender\",\n",
        "     palette=\"flare\", ax=axes[0], marker='o'\n",
        ")\n",
        "axes[0].set_title('2006', fontweight='bold')\n",
        "\n",
        "sns.lineplot(\n",
        "    data=df.query(\"Year == 2016\"),\n",
        "    x=\"Never Married\", y=\"Age Range\", hue=\"Gender\",\n",
        "     palette=\"flare\", ax=axes[1], marker='o'\n",
        ")\n",
        "axes[1].set_title('2016', fontweight='bold')\n",
        "\n",
        "plt.xlabel('Never Married')\n",
        "plt.ylabel('Age Range')\n",
        "\n",
        "\n",
        "fig.suptitle('Never Married by Age Range & Gender in 2006-2016', fontsize = 20, fontweight = 'bold', y=1.05)\n",
        "plt.tight_layout();\n",
        "plt.savefig(\"NeverMarried06_16.png\")\n",
        "files.download(\"NeverMarried06_16.png\") "
      ],
      "metadata": {
        "colab": {
          "base_uri": "https://localhost:8080/",
          "height": 320
        },
        "id": "hxlWk-QIW2X2",
        "outputId": "a01ac9d2-0e98-464b-95bb-e13d02e0a9e7"
      },
      "execution_count": 38,
      "outputs": [
        {
          "output_type": "display_data",
          "data": {
            "text/plain": [
              "<IPython.core.display.Javascript object>"
            ],
            "application/javascript": [
              "\n",
              "    async function download(id, filename, size) {\n",
              "      if (!google.colab.kernel.accessAllowed) {\n",
              "        return;\n",
              "      }\n",
              "      const div = document.createElement('div');\n",
              "      const label = document.createElement('label');\n",
              "      label.textContent = `Downloading \"${filename}\": `;\n",
              "      div.appendChild(label);\n",
              "      const progress = document.createElement('progress');\n",
              "      progress.max = size;\n",
              "      div.appendChild(progress);\n",
              "      document.body.appendChild(div);\n",
              "\n",
              "      const buffers = [];\n",
              "      let downloaded = 0;\n",
              "\n",
              "      const channel = await google.colab.kernel.comms.open(id);\n",
              "      // Send a message to notify the kernel that we're ready.\n",
              "      channel.send({})\n",
              "\n",
              "      for await (const message of channel.messages) {\n",
              "        // Send a message to notify the kernel that we're ready.\n",
              "        channel.send({})\n",
              "        if (message.buffers) {\n",
              "          for (const buffer of message.buffers) {\n",
              "            buffers.push(buffer);\n",
              "            downloaded += buffer.byteLength;\n",
              "            progress.value = downloaded;\n",
              "          }\n",
              "        }\n",
              "      }\n",
              "      const blob = new Blob(buffers, {type: 'application/binary'});\n",
              "      const a = document.createElement('a');\n",
              "      a.href = window.URL.createObjectURL(blob);\n",
              "      a.download = filename;\n",
              "      div.appendChild(a);\n",
              "      a.click();\n",
              "      div.remove();\n",
              "    }\n",
              "  "
            ]
          },
          "metadata": {}
        },
        {
          "output_type": "display_data",
          "data": {
            "text/plain": [
              "<IPython.core.display.Javascript object>"
            ],
            "application/javascript": [
              "download(\"download_92ff78e1-ffea-4494-9101-b3f8ace0521a\", \"NeverMarried06_16.png\", 33412)"
            ]
          },
          "metadata": {}
        },
        {
          "output_type": "display_data",
          "data": {
            "text/plain": [
              "<Figure size 864x288 with 2 Axes>"
            ],
            "image/png": "[encoded data removed]"
          },
          "metadata": {}
        }
      ]
    }
  ]
}